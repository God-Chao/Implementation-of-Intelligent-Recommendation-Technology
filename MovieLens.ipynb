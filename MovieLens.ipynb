{
 "cells": [
  {
   "cell_type": "code",
   "execution_count": 1,
   "id": "80d23eeb-7046-4dc8-a208-6606d2dc8f68",
   "metadata": {},
   "outputs": [],
   "source": [
    "import pandas as pd\n",
    "import autograd.numpy as np\n",
    "from autograd import grad\n",
    "import random\n",
    "from tqdm import tqdm"
   ]
  },
  {
   "cell_type": "code",
   "execution_count": 2,
   "id": "4543cbbe-a0bd-4f3c-85d3-d6445f53885f",
   "metadata": {},
   "outputs": [],
   "source": [
    "# 训练集和测试集\n",
    "def get_train_data():\n",
    "    return pd.read_csv('/Users/chao/workspace/d2l/data/ml-100k/u1.base', sep='\\t', names=['userId', 'itemId', 'rating', 'timestamp'])\n",
    "\n",
    "def get_test_data():\n",
    "    return pd.read_csv('/Users/chao/workspace/d2l/data/ml-100k/u1.test', sep='\\t', names=['userId', 'itemId', 'rating', 'timestamp'])"
   ]
  },
  {
   "cell_type": "code",
   "execution_count": 3,
   "id": "a1947c02-fbdf-4d10-8af5-be3aa66b3142",
   "metadata": {},
   "outputs": [],
   "source": [
    "# 用户-物品矩阵\n",
    "user_num = 943\n",
    "item_num = 1682\n",
    "ratings = np.zeros((user_num + 1, item_num + 1), int)\n",
    "y_ui = np.zeros((user_num + 1, item_num + 1), int)\n",
    "\n",
    "with open('/Users/chao/workspace/d2l/data/ml-100k/u1.base', 'r') as file:\n",
    "    for line in file.readlines():\n",
    "        user, item, rating, timestamp = line.split('\t')\n",
    "        ratings[int(user)][int(item)] = int(rating)\n",
    "        y_ui[int(user)][int(item)] = 1\n",
    "\n",
    "p = y_ui.sum()\n",
    "density = p / (user_num * item_num)\n",
    "r_ = ratings.sum() / p"
   ]
  },
  {
   "cell_type": "code",
   "execution_count": 4,
   "id": "c2c135bb-2166-4ee4-b99d-46de0484a151",
   "metadata": {},
   "outputs": [],
   "source": [
    "# 求用户均值和物品均值\n",
    "r_1 = ratings.sum(axis=0)\n",
    "r_2 = ratings.sum(axis=1)\n",
    "r_3 = y_ui.sum(axis=0)\n",
    "r_4 = y_ui.sum(axis=1)\n",
    "\n",
    "r_u = np.zeros(user_num + 1, float)\n",
    "for i in range(1, user_num + 1):\n",
    "    r_u[i] = (r_ if r_4[i] == 0 else r_2[i] / r_4[i])\n",
    "\n",
    "r_i = np.zeros(item_num + 1, float)\n",
    "for i in range(1, item_num + 1):\n",
    "    r_i[i] = (r_ if r_3[i] == 0 else r_1[i] / r_3[i])\n",
    "\n",
    "b_u = np.zeros(user_num + 1, float)\n",
    "for i in range(1, user_num + 1):\n",
    "    b_u[i] = (0 if r_4[i] == 0 else (y_ui[i] * (ratings[i] - r_i)).sum() / r_4[i])\n",
    "\n",
    "b_i = np.zeros(item_num + 1, float)\n",
    "for i in range(1, item_num + 1):\n",
    "    b_i[i] = (0 if r_3[i] == 0 else (y_ui[:, i] * (ratings[:, i] - r_u)).sum() / r_3[i])"
   ]
  },
  {
   "cell_type": "code",
   "execution_count": 5,
   "id": "23d1d310-9ad7-414d-bd38-b129fa602998",
   "metadata": {},
   "outputs": [],
   "source": [
    "# 损失函数\n",
    "def MAE(predict_rule):\n",
    "    test_data = get_test_data()\n",
    "    data_num = test_data.shape[0]\n",
    "    loss = 0.0\n",
    "    for i in range(data_num):\n",
    "        userId, itemId, rating = test_data.iloc[i,:]['userId'], test_data.iloc[i,:]['itemId'], test_data.iloc[i,:]['rating'] \n",
    "        y_hat = postProcess(predict_rule(userId, itemId))\n",
    "        loss += abs(y_hat - rating)\n",
    "    return loss / data_num\n",
    "\n",
    "def RMSE(predict_rule):\n",
    "    test_data = get_test_data()\n",
    "    data_num = test_data.shape[0]\n",
    "    loss = 0.0\n",
    "    for i in range(data_num):\n",
    "        userId, itemId, rating = test_data.iloc[i,:]['userId'], test_data.iloc[i,:]['itemId'], test_data.iloc[i,:]['rating'] \n",
    "        y_hat = postProcess(predict_rule(userId, itemId))\n",
    "        loss += ((y_hat - rating) ** 2) / data_num\n",
    "    return loss ** 0.5"
   ]
  },
  {
   "cell_type": "code",
   "execution_count": 6,
   "id": "07139bdc-079c-409a-815b-e4e55f93fe1b",
   "metadata": {},
   "outputs": [],
   "source": [
    "# 用户u评分过的所有物品\n",
    "def I_u(u):\n",
    "    return np.where(y_ui[u] == 1)[0]\n",
    "\n",
    "# 给物品j评分过的所有用户\n",
    "def U_j(j):\n",
    "    return np.where(y_ui[:, j] == 1)[0]\n",
    "\n",
    "# 用户u评分过的所有分数\n",
    "def R_u(u):\n",
    "    items = np.unique(ratings[u] * y_ui[u])\n",
    "    return items[items != 0]\n",
    "\n",
    "# 求用户u和w共同评分过的物品\n",
    "def I_u_w(u, w):\n",
    "    return np.intersect1d(I_u(u), I_u(w))\n",
    "\n",
    "# 给物品k和j都评分过的用户\n",
    "def U_k_j(k, j):\n",
    "    return np.intersect1d(U_j(k), U_j(j))\n",
    "\n",
    "# 用户u评分为r的所有物品\n",
    "def I_u_r(u, r):\n",
    "    items = I_u(u)\n",
    "    return np.where(ratings[u] == r)[0]"
   ]
  },
  {
   "cell_type": "code",
   "execution_count": 7,
   "id": "d3382cc1-0e59-4eaf-9906-7c1c24575fc2",
   "metadata": {},
   "outputs": [],
   "source": [
    "# 数据后处理\n",
    "def postProcess(num):\n",
    "    num = min(5.0, num)\n",
    "    num = max(1.0, num)\n",
    "    return num\n",
    "\n",
    "# 随机打乱数据\n",
    "def shuffle_data(data):\n",
    "    indices = list(range(len(data)))\n",
    "    random.shuffle(indices)\n",
    "    return data.iloc[indices,:]"
   ]
  },
  {
   "cell_type": "code",
   "execution_count": 8,
   "id": "0797b86f-6d25-44c8-83c3-059bf3ce259f",
   "metadata": {},
   "outputs": [],
   "source": [
    "# 预测\n",
    "def predict(*predict_rules):\n",
    "    for predict_rule in predict_rules:\n",
    "        print(f\"RMSE: {RMSE(predict_rule):.4f}, MAE: {MAE(predict_rule):.4f}\")"
   ]
  }
 ],
 "metadata": {
  "kernelspec": {
   "display_name": "Python 3 (ipykernel)",
   "language": "python",
   "name": "python3"
  },
  "language_info": {
   "codemirror_mode": {
    "name": "ipython",
    "version": 3
   },
   "file_extension": ".py",
   "mimetype": "text/x-python",
   "name": "python",
   "nbconvert_exporter": "python",
   "pygments_lexer": "ipython3",
   "version": "3.8.19"
  }
 },
 "nbformat": 4,
 "nbformat_minor": 5
}
