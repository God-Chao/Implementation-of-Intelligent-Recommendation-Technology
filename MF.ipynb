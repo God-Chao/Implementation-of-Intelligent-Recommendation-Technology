{
 "cells": [
  {
   "cell_type": "code",
   "execution_count": 1,
   "id": "349fe5e0-3301-4063-8bd4-7506b9b520f8",
   "metadata": {},
   "outputs": [],
   "source": [
    "%run ./MovieLens.ipynb"
   ]
  },
  {
   "cell_type": "code",
   "execution_count": 2,
   "id": "90c01bb5-0a70-4ca3-9ebc-40220f3f5339",
   "metadata": {},
   "outputs": [],
   "source": [
    "# 设置超参数\n",
    "d = 20\n",
    "alpha_u = alpha_v = beta_u = beta_v = 0.01\n",
    "lr = 0.01\n",
    "epochs = 50\n",
    "\n",
    "user_num = 943\n",
    "item_num = 1682"
   ]
  },
  {
   "cell_type": "code",
   "execution_count": 3,
   "id": "fe4f83b0-3850-4340-b738-8639ec6c840c",
   "metadata": {},
   "outputs": [],
   "source": [
    "# 初始化参数\n",
    "def init():\n",
    "    mu = (y_ui * ratings).sum() / y_ui.sum()\n",
    "    bu = np.zeros(user_num + 1, float)\n",
    "    for u in range(1, user_num + 1):\n",
    "        bu[u] = (0 if y_ui[u].sum() == 0 else (y_ui[u] * (ratings[u] - mu)).sum() / y_ui[u].sum())\n",
    "    bi = np.zeros(item_num + 1, float)\n",
    "    for i in range(1, item_num + 1):\n",
    "        bi[i] = (0 if y_ui[:,i].sum() == 0 else (y_ui[:,i] * (ratings[:,i] - mu)).sum() / y_ui[:,i].sum())\n",
    "    U = np.random.rand(user_num + 1, d)\n",
    "    V = np.random.rand(item_num + 1, d)\n",
    "    U = (U - 0.5) * 0.01\n",
    "    V = (V - 0.5) * 0.01\n",
    "    return mu, bu, bi, U, V\n",
    "\n",
    "# 预测函数\n",
    "def predict_rule1(u, i, U, V):\n",
    "    return U[u] @ V[i].T\n",
    "\n",
    "def predict_rule2(u, i, mu, bu, bi, U, V):\n",
    "    return mu + bu[u] + bi[i] + U[u] @ V[i].T"
   ]
  },
  {
   "cell_type": "code",
   "execution_count": 4,
   "id": "41395c82-dc7d-4b70-8a05-382c6de1f976",
   "metadata": {},
   "outputs": [],
   "source": [
    "def PSVD():\n",
    "    ratings_svd = ratings.copy().astype('float')\n",
    "    for u in range(1, user_num + 1):\n",
    "        for j in range(1, item_num + 1):\n",
    "            if y_ui[u][j] == 0:\n",
    "                ratings_svd[u][j] = r_u[u]\n",
    "        ratings_svd[u] -= r_u[u]\n",
    "    U, S, V = np.linalg.svd(ratings_svd)\n",
    "    S_truncated = np.zeros_like(ratings_svd)\n",
    "    S_truncated[:d, :d] = np.diag(S[:d])\n",
    "    ratings_svd = U @ S_truncated @ V\n",
    "    for u in range(1, user_num + 1):\n",
    "        ratings_svd[u] += r_u[u]\n",
    "    return ratings_svd\n",
    "\n",
    "ratings_svd = PSVD()"
   ]
  },
  {
   "cell_type": "code",
   "execution_count": null,
   "id": "0808bb55-bcd5-415d-9f2d-c6aaa53e2289",
   "metadata": {},
   "outputs": [],
   "source": [
    "def get_SGD_PMF(lr = lr):\n",
    "    U, V = init()[3], init()[4]\n",
    "    train_data = get_train_data()\n",
    "    n = len(train_data)\n",
    "    for epoch in range(epochs):\n",
    "        print(epoch)\n",
    "        # 打乱训练集\n",
    "        train_data = shuffle_data(train_data)\n",
    "        for t in range(n):\n",
    "            # 随机取数据\n",
    "            u, i, rating = train_data.iloc[t,:]['userId'], train_data.iloc[t,:]['itemId'], train_data.iloc[t,:]['rating']\n",
    "            # 计算梯度\n",
    "            delta_Uu = -(ratings[u][i] - U[u] @ V[i].T) * V[i] + alpha_u * U[u]\n",
    "            delta_Vi = -(ratings[u][i] - U[u] @ V[i].T) * U[u] + alpha_v * V[i]\n",
    "            # 更新参数\n",
    "            U[u] -= lr * delta_Uu\n",
    "            V[i] -= lr * delta_Vi\n",
    "        # 学习率下降\n",
    "        lr *= 0.9\n",
    "    return U, V\n",
    "\n",
    "U1, V1 = get_SGD_PMF()"
   ]
  },
  {
   "cell_type": "code",
   "execution_count": null,
   "id": "97b01116-7030-459a-a344-ef8c46e6050c",
   "metadata": {},
   "outputs": [],
   "source": [
    "def get_SGD_RSVD(lr = lr):\n",
    "    mu, bu, bi, U, V = init()\n",
    "    train_data = get_train_data()\n",
    "    n = len(train_data)\n",
    "    for epoch in range(epochs):\n",
    "        print(epoch)\n",
    "        # 打乱训练集\n",
    "        train_data = shuffle_data(train_data)\n",
    "        for t in range(n):\n",
    "            # 随机取数据\n",
    "            u, i, rating = train_data.iloc[t,:]['userId'], train_data.iloc[t,:]['itemId'], train_data.iloc[t,:]['rating']\n",
    "            # 计算梯度\n",
    "            e = ratings[u][i] - predict_rule2(u, i, mu, bu, bi, U, V)\n",
    "            delta_mu = -e\n",
    "            delta_bu = -e + beta_u * bu[u]\n",
    "            delta_bi = -e + beta_v * bi[i]\n",
    "            delta_Uu = (-e) * V[i] + alpha_u * U[u]\n",
    "            delta_Vi = (-e) * U[u] + alpha_v * V[i]\n",
    "            # 更新参数\n",
    "            mu -= lr * delta_mu\n",
    "            bu[u] -= lr * delta_bu\n",
    "            bi[i] -= lr * delta_bi\n",
    "            U[u] -= lr * delta_Uu\n",
    "            V[i] -= lr * delta_Vi\n",
    "        # 学习率下降\n",
    "        lr *= 0.9\n",
    "    return mu, bu, bi, U, V\n",
    "\n",
    "mu, bu, bi, U2, V2 = get_SGD_RSVD()"
   ]
  },
  {
   "cell_type": "code",
   "execution_count": 7,
   "id": "c199a4e0-f872-4b33-b684-8b92a65337e8",
   "metadata": {},
   "outputs": [],
   "source": [
    "# 预测规则\n",
    "def PSVD(u, j):\n",
    "    return ratings_svd[u][j]\n",
    "\n",
    "def SGD_PMF(u, j):\n",
    "    return predict_rule1(u, j, U1, V1)\n",
    "\n",
    "def SGD_RSVD(u, j):\n",
    "    return predict_rule2(u, j, mu, bu, bi, U2, V2)"
   ]
  },
  {
   "cell_type": "code",
   "execution_count": 8,
   "id": "791086d7-821d-4fa5-853a-c589fd8618f2",
   "metadata": {},
   "outputs": [
    {
     "name": "stdout",
     "output_type": "stream",
     "text": [
      "RMSE: 1.0169, MAE: 0.8058\n",
      "RMSE: 0.9686, MAE: 0.7587\n",
      "RMSE: 0.9564, MAE: 0.7525\n"
     ]
    }
   ],
   "source": [
    "# 输出结果\n",
    "predict(PSVD, SGD_PMF, SGD_RSVD)"
   ]
  }
 ],
 "metadata": {
  "kernelspec": {
   "display_name": "Python 3 (ipykernel)",
   "language": "python",
   "name": "python3"
  },
  "language_info": {
   "codemirror_mode": {
    "name": "ipython",
    "version": 3
   },
   "file_extension": ".py",
   "mimetype": "text/x-python",
   "name": "python",
   "nbconvert_exporter": "python",
   "pygments_lexer": "ipython3",
   "version": "3.8.19"
  }
 },
 "nbformat": 4,
 "nbformat_minor": 5
}
