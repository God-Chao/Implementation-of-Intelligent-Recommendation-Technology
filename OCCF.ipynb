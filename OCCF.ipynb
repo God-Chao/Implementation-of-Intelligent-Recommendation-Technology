{
 "cells": [
  {
   "cell_type": "code",
   "execution_count": 1,
   "id": "19b71c3a-cc8e-41dd-bc04-15e7c72a4328",
   "metadata": {},
   "outputs": [],
   "source": [
    "%run ./MovieLens_Ranking.ipynb"
   ]
  },
  {
   "cell_type": "code",
   "execution_count": 2,
   "id": "07309861-2efc-44c0-b247-bb6d4da5f0c5",
   "metadata": {},
   "outputs": [],
   "source": [
    "# 相邻算法\n",
    "def PCC_item(k, j):\n",
    "    # 求物品k和j的交集\n",
    "    u_k = U_j(k)\n",
    "    u_j = U_j(j)\n",
    "    intersection = np.intersect1d(u_k, u_j)\n",
    "    union = np.union1d(u_k, u_j)\n",
    "    if len(union) == 0:\n",
    "        return 0\n",
    "    return len(intersection) / len(union)\n",
    "\n",
    "def PCC_user(u, w):\n",
    "    # 求用户u和w的交集\n",
    "    i_u = I_u(u)\n",
    "    i_w = I_u(w)\n",
    "    intersection = np.intersect1d(i_u, i_w)\n",
    "    union = np.union1d(i_u, i_w)\n",
    "    if len(union) == 0:\n",
    "        return 0\n",
    "    return len(intersection) / len(union)"
   ]
  },
  {
   "cell_type": "code",
   "execution_count": 3,
   "id": "9eee90a6-48ed-4d6b-b3a2-49b2f1089b8b",
   "metadata": {},
   "outputs": [],
   "source": [
    "# 求用户和物品的相邻系数矩阵\n",
    "s_uw = np.zeros((user_num + 1, user_num + 1), float)\n",
    "for i in range(1, user_num + 1):\n",
    "    for j in range(1, i + 1):\n",
    "        if j == i:\n",
    "            s_uw[i][j] = 1.0\n",
    "        else:\n",
    "            s_uw[i][j] = PCC_user(i, j)\n",
    "            s_uw[j][i] = PCC_user(i, j)\n",
    "            \n",
    "s_kj = np.zeros((item_num + 1, item_num + 1), float)\n",
    "for i in range(1, item_num + 1):\n",
    "    for j in range(1, i + 1):\n",
    "        if j == i:\n",
    "            s_kj[i][j] = 1.0\n",
    "        else:\n",
    "            s_kj[i][j] = PCC_item(i, j)\n",
    "            s_kj[j][i] = PCC_item(i, j)"
   ]
  },
  {
   "cell_type": "code",
   "execution_count": 4,
   "id": "06927cf6-86d2-4471-92a6-881819f66447",
   "metadata": {},
   "outputs": [],
   "source": [
    "# 获取k个邻居\n",
    "def get_user_neighbors(u, j, k=50):\n",
    "    neighbors = np.where(s_uw[u] != 0)[0]\n",
    "    neighbors = neighbors[neighbors != u]\n",
    "    neighbors = np.intersect1d(neighbors, U_j(j))\n",
    "    # 获取用户u与邻居的相关系数数组\n",
    "    coefficients = s_uw[u][neighbors]\n",
    "    # 使用argsort函数获取绝对值最大的k个邻居的索引\n",
    "    return neighbors[np.argsort(coefficients)[::-1][:k]]\n",
    "\n",
    "def get_item_neighbors(u, j, k=50):\n",
    "    neighbors = np.where(s_kj[j] != 0)[0]\n",
    "    neighbors = neighbors[neighbors != j]\n",
    "    neighbors = np.intersect1d(neighbors, I_u(u))\n",
    "    # 获取物品j与邻居的相关系数数组\n",
    "    coefficients = s_kj[j][neighbors]\n",
    "    # 使用argsort函数获取绝对值最大的k个邻居的索引\n",
    "    return neighbors[np.argsort(coefficients)[::-1][:k]]"
   ]
  },
  {
   "cell_type": "code",
   "execution_count": 5,
   "id": "f653a5a0-c964-43fd-8381-91b80bfe1280",
   "metadata": {},
   "outputs": [],
   "source": [
    "def I_OCCF(u, j):\n",
    "    # 选取邻居\n",
    "    neighbors = get_item_neighbors(u, j)\n",
    "    rating = 0\n",
    "    for k in neighbors:\n",
    "        rating += s_kj[k][j]\n",
    "    return rating\n",
    "\n",
    "def U_OCCF(u, j):\n",
    "    # 选取邻居\n",
    "    neighbors = get_user_neighbors(u, j)\n",
    "    rating = 0\n",
    "    for w in neighbors:\n",
    "        rating += s_uw[u][w]\n",
    "    return rating\n",
    "\n",
    "def H_OCCF(u, j):\n",
    "    return I_OCCF(u, j) / 2 + U_OCCF(u, j) / 2"
   ]
  },
  {
   "cell_type": "code",
   "execution_count": 6,
   "id": "a74d678f-1438-4ae4-be29-e2ad7bae9794",
   "metadata": {},
   "outputs": [
    {
     "name": "stdout",
     "output_type": "stream",
     "text": [
      "Pre: 0.3531\n",
      "Rec: 0.1147\n"
     ]
    }
   ],
   "source": [
    "predict(I_OCCF, 5)"
   ]
  },
  {
   "cell_type": "code",
   "execution_count": 7,
   "id": "1edb5ae5-c9da-423f-b9bd-aa7b51a56b0f",
   "metadata": {},
   "outputs": [
    {
     "name": "stdout",
     "output_type": "stream",
     "text": [
      "Pre: 0.3917\n",
      "Rec: 0.1263\n"
     ]
    }
   ],
   "source": [
    "predict(U_OCCF, 5)"
   ]
  },
  {
   "cell_type": "code",
   "execution_count": 8,
   "id": "ab20cb7a-d3fb-4a3c-9825-dfc90c01cd5b",
   "metadata": {},
   "outputs": [
    {
     "name": "stdout",
     "output_type": "stream",
     "text": [
      "Pre: 0.3851\n",
      "Rec: 0.1286\n"
     ]
    }
   ],
   "source": [
    "predict(H_OCCF, 5)"
   ]
  }
 ],
 "metadata": {
  "kernelspec": {
   "display_name": "Python 3 (ipykernel)",
   "language": "python",
   "name": "python3"
  },
  "language_info": {
   "codemirror_mode": {
    "name": "ipython",
    "version": 3
   },
   "file_extension": ".py",
   "mimetype": "text/x-python",
   "name": "python",
   "nbconvert_exporter": "python",
   "pygments_lexer": "ipython3",
   "version": "3.8.19"
  }
 },
 "nbformat": 4,
 "nbformat_minor": 5
}
