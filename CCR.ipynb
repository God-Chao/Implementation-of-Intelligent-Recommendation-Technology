{
 "cells": [
  {
   "cell_type": "code",
   "execution_count": 1,
   "id": "5b06fcde-71a9-40d1-a6c6-a72d0212071c",
   "metadata": {},
   "outputs": [],
   "source": [
    "%run ./MovieLens_Ranking.ipynb"
   ]
  },
  {
   "cell_type": "code",
   "execution_count": 2,
   "id": "9608f326-6a59-4f56-9d00-b965e86e7dd1",
   "metadata": {},
   "outputs": [],
   "source": [
    "# 设置超参数\n",
    "d = 20\n",
    "lambda_ = 0.01\n",
    "lr = 0.01\n",
    "epochs = 20\n",
    "rho = 3\n",
    "k = 5"
   ]
  },
  {
   "cell_type": "code",
   "execution_count": 3,
   "id": "bbb029ae-8b4b-495f-a717-bf282e9b467f",
   "metadata": {},
   "outputs": [],
   "source": [
    "# 求positive,negative和unobserved\n",
    "positive, negative, unobserved = [], [], []\n",
    "for u in range(user_num + 1):\n",
    "    for j in range(item_num + 1):\n",
    "        if y_ui[u][j] == 0:\n",
    "            unobserved.append((u, j, -1))\n",
    "        else:\n",
    "            if ratings[u][j] >= r_u[u]:\n",
    "                positive.append((u, j, 1))\n",
    "            else:\n",
    "                negative.append((u, j, -1))\n",
    "\n",
    "def getUnion():\n",
    "    union = []\n",
    "    random.shuffle(unobserved)\n",
    "    for i in range(len(positive)):\n",
    "        union.append(positive[i])\n",
    "    for i in range(len(negative)):\n",
    "        union.append(negative[i])\n",
    "    for i in range(rho * (len(positive) + len(negative))):\n",
    "        union.append(unobserved[i])\n",
    "    random.shuffle(union)\n",
    "    return union\n",
    "\n",
    "def sigmoid(x):\n",
    "    return 1 / (1 + np.exp(-x))"
   ]
  },
  {
   "cell_type": "code",
   "execution_count": 4,
   "id": "487fdc78-c809-4349-a034-98aeca147638",
   "metadata": {},
   "outputs": [],
   "source": [
    "# 初始化参数\n",
    "def init():\n",
    "    mu = r_\n",
    "    bu = np.zeros(user_num + 1, float)\n",
    "    for u in range(1, user_num + 1):\n",
    "        bu[u] = (0 if y_ui[u].sum() == 0 else (y_ui[u] * (ratings[u] - mu)).sum() / y_ui[u].sum())\n",
    "    bi = np.zeros(item_num + 1, float)\n",
    "    for i in range(1, item_num + 1):\n",
    "        bi[i] = (0 if y_ui[:,i].sum() == 0 else (y_ui[:,i] * (ratings[:,i] - mu)).sum() / y_ui[:,i].sum())\n",
    "    U = np.random.rand(user_num + 1, d)\n",
    "    V = np.random.rand(item_num + 1, d)\n",
    "    M = np.random.rand(item_num + 1, 6, d)\n",
    "    U = (U - 0.5) * 0.01\n",
    "    V = (V - 0.5) * 0.01\n",
    "    M = (M - 0.5) * 0.01\n",
    "    return mu, bu, bi, U, V, M\n",
    "\n",
    "# 求用户u在M上的偏好\n",
    "def U_MPC(u, M):\n",
    "    m = np.zeros(d, float)\n",
    "    for r in R_u(u):\n",
    "        items = I_u_r(u, r)\n",
    "        m += np.sum(M[items, r, :], axis=0) / np.sqrt(len(items))\n",
    "    return m\n",
    "\n",
    "# 预测函数\n",
    "def predict_rule(u, i, mu, bu, bi, U, V, M):\n",
    "    return U[u] @ V[i].T + U_MPC(u, M) @ V[i].T + bu[u] + bi[i]+ mu"
   ]
  },
  {
   "cell_type": "code",
   "execution_count": 5,
   "id": "b30c2464-23bd-4842-9209-56945f2c60dd",
   "metadata": {},
   "outputs": [
    {
     "name": "stderr",
     "output_type": "stream",
     "text": [
      "100%|██████████████████████████████████████████| 20/20 [34:18<00:00, 102.94s/it]\n"
     ]
    }
   ],
   "source": [
    "# 训练\n",
    "mu, bu, bi, U, V, M = init()\n",
    "\n",
    "for epoch in tqdm(range(epochs)):\n",
    "    # 求union\n",
    "    union = getUnion()\n",
    "    for t in range(len(union)):\n",
    "        # 随机取数据\n",
    "        u, i, y = union[t][0], union[t][1], union[t][2]\n",
    "        # 计算梯度\n",
    "        y_hat = predict_rule(u, i, mu, bu, bi, U, V, M)\n",
    "        e = (sigmoid(y * y_hat) - 1) * y\n",
    "        delta_mu = e\n",
    "        delta_bu = e + lambda_ * bu[u]\n",
    "        delta_bi = e + lambda_ * bi[i]\n",
    "        delta_Uu = e * V[i] + lambda_ * U[u]\n",
    "        delta_Vi = e * (U[u] + U_MPC(u, M)) + lambda_ * V[i]\n",
    "        delta_M = np.zeros_like(M)\n",
    "        for r in R_u(u):\n",
    "            items = I_u_r(u, r)\n",
    "            for item in items:\n",
    "                delta_M[item, r, :] = e * V[i] / np.sqrt(len(items)) + lambda_ * M[item, r, :]\n",
    "        # 更新参数\n",
    "        mu -= lr * delta_mu\n",
    "        bu[u] -= lr * delta_bu\n",
    "        bi[i] -= lr * delta_bi\n",
    "        U[u] -= lr * delta_Uu\n",
    "        V[i] -= lr * delta_Vi\n",
    "        for r in R_u(u):\n",
    "            items = I_u_r(u, r)\n",
    "            M[items, r, :] -= lr * delta_M[items, r, :]\n",
    "    # 学习率下降\n",
    "    lr *= 0.9"
   ]
  },
  {
   "cell_type": "code",
   "execution_count": 6,
   "id": "779ff758-1f69-4ec3-b3c6-18af9bcd437b",
   "metadata": {},
   "outputs": [],
   "source": [
    "# 预测规则\n",
    "def CCR(u, j):\n",
    "    return predict_rule(u, j, mu, bu, bi, U, V, M)"
   ]
  },
  {
   "cell_type": "code",
   "execution_count": 7,
   "id": "a692e2e6-d5cd-48df-8e63-7ec0f9ee1707",
   "metadata": {},
   "outputs": [
    {
     "name": "stdout",
     "output_type": "stream",
     "text": [
      "Pre: 0.2425\n",
      "Rec: 0.0620\n",
      "F1: 0.0826\n",
      "NDCG: 0.2548\n",
      "One_call: 0.6557\n"
     ]
    }
   ],
   "source": [
    "# 输出结果\n",
    "predict(CCR, k)"
   ]
  }
 ],
 "metadata": {
  "kernelspec": {
   "display_name": "Python 3 (ipykernel)",
   "language": "python",
   "name": "python3"
  },
  "language_info": {
   "codemirror_mode": {
    "name": "ipython",
    "version": 3
   },
   "file_extension": ".py",
   "mimetype": "text/x-python",
   "name": "python",
   "nbconvert_exporter": "python",
   "pygments_lexer": "ipython3",
   "version": "3.8.19"
  }
 },
 "nbformat": 4,
 "nbformat_minor": 5
}
