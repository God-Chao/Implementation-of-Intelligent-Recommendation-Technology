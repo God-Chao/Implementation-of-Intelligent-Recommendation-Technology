{
 "cells": [
  {
   "cell_type": "code",
   "execution_count": 1,
   "id": "c5016c96-8577-4695-a5bc-a771a524e3d5",
   "metadata": {},
   "outputs": [],
   "source": [
    "%run ./MovieLens.ipynb"
   ]
  },
  {
   "cell_type": "code",
   "execution_count": 2,
   "id": "80dc3f90-12b6-4873-ad63-6f5faa6db2bb",
   "metadata": {},
   "outputs": [],
   "source": [
    "# 预测规则\n",
    "def AF1(u, i):\n",
    "    return r_u[u]\n",
    "\n",
    "def AF2(u, i):\n",
    "    return r_i[i]\n",
    "    \n",
    "def AF3(u, i):\n",
    "    return r_u[u] / 2 + r_i[i] / 2\n",
    "\n",
    "def AF4(u, i):\n",
    "    return b_u[u] + r_i[i]\n",
    "\n",
    "def AF5(u, i):\n",
    "    return r_u[u] + b_i[i]\n",
    "\n",
    "def AF6(u, i):\n",
    "    return r_ + b_u[u] + b_i[i]"
   ]
  },
  {
   "cell_type": "code",
   "execution_count": 3,
   "id": "63b2b054-2488-4198-80d9-db5dbe917eec",
   "metadata": {},
   "outputs": [
    {
     "name": "stdout",
     "output_type": "stream",
     "text": [
      "RMSE: 1.0630, MAE: 0.8502\n",
      "RMSE: 1.0334, MAE: 0.8276\n",
      "RMSE: 0.9985, MAE: 0.8085\n",
      "RMSE: 0.9593, MAE: 0.7557\n",
      "RMSE: 0.9741, MAE: 0.7666\n",
      "RMSE: 0.9620, MAE: 0.7604\n"
     ]
    }
   ],
   "source": [
    "# 输出结果\n",
    "predict(AF1, AF2, AF3, AF4, AF5, AF6)"
   ]
  }
 ],
 "metadata": {
  "kernelspec": {
   "display_name": "Python 3 (ipykernel)",
   "language": "python",
   "name": "python3"
  },
  "language_info": {
   "codemirror_mode": {
    "name": "ipython",
    "version": 3
   },
   "file_extension": ".py",
   "mimetype": "text/x-python",
   "name": "python",
   "nbconvert_exporter": "python",
   "pygments_lexer": "ipython3",
   "version": "3.8.19"
  }
 },
 "nbformat": 4,
 "nbformat_minor": 5
}
