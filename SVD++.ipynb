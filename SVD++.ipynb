{
 "cells": [
  {
   "cell_type": "code",
   "execution_count": 1,
   "id": "5e7aea2a-4ea9-4431-8b08-a4ead71e4854",
   "metadata": {},
   "outputs": [],
   "source": [
    "import pandas as pd\n",
    "import numpy as np\n",
    "from tqdm import tqdm\n",
    "import random"
   ]
  },
  {
   "cell_type": "code",
   "execution_count": 2,
   "id": "54ff1c71-30b5-4648-9ce0-819c0d7253e6",
   "metadata": {},
   "outputs": [],
   "source": [
    "# 设置超参数\n",
    "d = 20\n",
    "alpha_u = alpha_v = alpha_w = beta_u = beta_v = 0.01\n",
    "lr = 0.01\n",
    "epochs = 100\n",
    "\n",
    "user_num = 943\n",
    "item_num = 1682\n",
    "n = 90570"
   ]
  },
  {
   "cell_type": "code",
   "execution_count": 3,
   "id": "291bf871-1482-4ec1-ad66-c04602ff19e1",
   "metadata": {},
   "outputs": [],
   "source": [
    "# 读取数据\n",
    "train_data = pd.read_csv('/Users/chao/workspace/d2l/data/ml-100k/ua.base', sep='\\t', names=['userId', 'itemId', 'rating', 'timestamp'])\n",
    "test_data = pd.read_csv('/Users/chao/workspace/d2l/data/ml-100k/ua.test', sep='\\t', names=['userId', 'itemId', 'rating', 'timestamp'])\n",
    "\n",
    "# 随机打乱数据\n",
    "def shuffle_data(data):\n",
    "    indices = list(range(len(data)))\n",
    "    random.shuffle(indices)\n",
    "    return data.iloc[indices,:]"
   ]
  },
  {
   "cell_type": "code",
   "execution_count": 4,
   "id": "77f84d81-34cd-409d-b158-7477d4c09742",
   "metadata": {},
   "outputs": [],
   "source": [
    "# 打乱训练集\n",
    "train_data = shuffle_data(train_data)\n",
    "explicit_data = train_data.iloc[0:int(n/2),:]\n",
    "implicit_data = train_data.iloc[int(n/2):,:]\n",
    "\n",
    "# 生成显示反馈\n",
    "ratings = np.zeros((user_num + 1, item_num + 1), int)\n",
    "y_ui = np.zeros((user_num + 1, item_num + 1), int)\n",
    "for i in range(len(explicit_data)):\n",
    "    userId, itemId, rating = explicit_data.iloc[i,:]['userId'], explicit_data.iloc[i,:]['itemId'], explicit_data.iloc[i,:]['rating']\n",
    "    ratings[userId][itemId] = rating\n",
    "    y_ui[userId][itemId] = 1\n",
    "\n",
    "# 生成隐式反馈\n",
    "feedbacks = np.zeros((user_num + 1, item_num + 1), int)\n",
    "for i in range(len(implicit_data)):\n",
    "    userId, itemId, rating = implicit_data.iloc[i,:]['userId'], implicit_data.iloc[i,:]['itemId'], implicit_data.iloc[i,:]['rating']\n",
    "    feedbacks[userId][itemId] = 1\n",
    "\n",
    "# 求用户u在隐式反馈表中评分过的所有物品\n",
    "def I_bar(u):\n",
    "    return np.where(feedbacks[u] == 1)[0]\n",
    "\n",
    "# 求用户u在W上的偏好\n",
    "def U_bar(u, W):\n",
    "    items = I_bar(u)\n",
    "    return (np.sum(W[items], axis=0) / np.sqrt(len(items))) if len(items) != 0 else np.zeros(d)"
   ]
  },
  {
   "cell_type": "code",
   "execution_count": 5,
   "id": "816d1144-6a56-4de8-97a3-7bd89aa6d751",
   "metadata": {},
   "outputs": [],
   "source": [
    "# 初始化参数\n",
    "def init():\n",
    "    mu = (y_ui * ratings).sum() / y_ui.sum()\n",
    "    bu = np.zeros(user_num + 1, float)\n",
    "    for u in range(1, user_num + 1):\n",
    "        bu[u] = (0 if y_ui[u].sum() == 0 else (y_ui[u] * (ratings[u] - mu)).sum() / y_ui[u].sum())\n",
    "    bi = np.zeros(item_num + 1, float)\n",
    "    for i in range(1, item_num + 1):\n",
    "        bi[i] = (0 if y_ui[:,i].sum() == 0 else (y_ui[:,i] * (ratings[:,i] - mu)).sum() / y_ui[:,i].sum())\n",
    "    U = np.random.rand(user_num + 1, d)\n",
    "    V = np.random.rand(item_num + 1, d)\n",
    "    W = np.random.rand(item_num + 1, d)\n",
    "    U = (U - 0.5) * 0.01\n",
    "    V = (V - 0.5) * 0.01\n",
    "    W = (W - 0.5) * 0.01\n",
    "    return mu, bu, bi, U, V, W\n",
    "\n",
    "# 预测函数\n",
    "def predict_rule(u, i, mu, bu, bi, U, V, W):\n",
    "    return U[u] @ V[i].T + U_bar(u, W) @ V[i].T + bu[u] + bi[i]+ mu"
   ]
  },
  {
   "cell_type": "code",
   "execution_count": 6,
   "id": "3f312fa9-4478-4db3-9624-d5bb3b35c7f2",
   "metadata": {},
   "outputs": [
    {
     "name": "stderr",
     "output_type": "stream",
     "text": [
      "100%|█████████████████████████████████████████| 100/100 [07:21<00:00,  4.42s/it]\n"
     ]
    }
   ],
   "source": [
    "mu, bu, bi, U, V, W = init()\n",
    "for epoch in tqdm(range(epochs)):\n",
    "    # 打乱训练集\n",
    "    explicit_data = shuffle_data(explicit_data)\n",
    "    for t in range(len(explicit_data)):\n",
    "        # 随机取数据\n",
    "        u, i, rating = explicit_data.iloc[t,:]['userId'], explicit_data.iloc[t,:]['itemId'], explicit_data.iloc[t,:]['rating']\n",
    "        # 计算梯度\n",
    "        e = ratings[u][i] - predict_rule(u, i, mu, bu, bi, U, V, W)\n",
    "        delta_mu = -e\n",
    "        delta_bu = -e + beta_u * bu[u]\n",
    "        delta_bi = -e + beta_v * bi[i]\n",
    "        delta_Uu = (-e) * V[i] + alpha_u * U[u]\n",
    "        delta_Vi = (-e) * (U[u] + U_bar(u, W)) + alpha_v * V[i]\n",
    "        items = I_bar(u)\n",
    "        delta_W = np.zeros_like(W)\n",
    "        if len(items) != 0:\n",
    "            delta_W[items] = -e / np.sqrt(len(items)) * V[i] + alpha_w * W[items]\n",
    "        # 更新参数\n",
    "        mu -= lr * delta_mu\n",
    "        bu[u] -= lr * delta_bu\n",
    "        bi[i] -= lr * delta_bi\n",
    "        U[u] -= lr * delta_Uu\n",
    "        V[i] -= lr * delta_Vi\n",
    "        W[items] -= lr * delta_W[items]\n",
    "    # 学习率下降\n",
    "    lr *= 0.9"
   ]
  },
  {
   "cell_type": "code",
   "execution_count": 7,
   "id": "2e130b2b-8787-4386-8638-991e63ed4f92",
   "metadata": {},
   "outputs": [],
   "source": [
    "# 预测规则\n",
    "def SVD_PP(u, j):\n",
    "    return predict_rule(u, j, mu, bu, bi, U, V, W)"
   ]
  },
  {
   "cell_type": "code",
   "execution_count": 8,
   "id": "c5c1c4a1-442e-40bc-880f-3e982c7ba4b1",
   "metadata": {},
   "outputs": [],
   "source": [
    "# 损失函数\n",
    "def MAE(predict_rule):\n",
    "    data_num = test_data.shape[0]\n",
    "    loss = 0.0\n",
    "    for i in range(data_num):\n",
    "        userId, itemId, rating = test_data.iloc[i,:]['userId'], test_data.iloc[i,:]['itemId'], test_data.iloc[i,:]['rating'] \n",
    "        y_hat = postProcess(predict_rule(userId, itemId))\n",
    "        loss += abs(y_hat - rating)\n",
    "    return loss / data_num\n",
    "\n",
    "def RMSE(predict_rule):\n",
    "    data_num = test_data.shape[0]\n",
    "    loss = 0.0\n",
    "    for i in range(data_num):\n",
    "        userId, itemId, rating = test_data.iloc[i,:]['userId'], test_data.iloc[i,:]['itemId'], test_data.iloc[i,:]['rating'] \n",
    "        y_hat = postProcess(predict_rule(userId, itemId))\n",
    "        loss += ((y_hat - rating) ** 2) / data_num\n",
    "    return loss ** 0.5\n",
    "\n",
    "# 数据后处理\n",
    "def postProcess(num):\n",
    "    num = min(5.0, num)\n",
    "    num = max(1.0, num)\n",
    "    return num\n",
    "\n",
    "# 预测\n",
    "def predict(*predict_rules):\n",
    "    for predict_rule in predict_rules:\n",
    "        print(f\"RMSE: {RMSE(predict_rule):.4f}, MAE: {MAE(predict_rule):.4f}\")"
   ]
  },
  {
   "cell_type": "code",
   "execution_count": 9,
   "id": "b09b2b1c-ebd1-41d3-84bf-5ae22a19d76f",
   "metadata": {},
   "outputs": [
    {
     "name": "stdout",
     "output_type": "stream",
     "text": [
      "RMSE: 0.9966, MAE: 0.7810\n"
     ]
    }
   ],
   "source": [
    "# 输出结果\n",
    "predict(SVD_PP)"
   ]
  }
 ],
 "metadata": {
  "kernelspec": {
   "display_name": "Python 3 (ipykernel)",
   "language": "python",
   "name": "python3"
  },
  "language_info": {
   "codemirror_mode": {
    "name": "ipython",
    "version": 3
   },
   "file_extension": ".py",
   "mimetype": "text/x-python",
   "name": "python",
   "nbconvert_exporter": "python",
   "pygments_lexer": "ipython3",
   "version": "3.8.19"
  }
 },
 "nbformat": 4,
 "nbformat_minor": 5
}
