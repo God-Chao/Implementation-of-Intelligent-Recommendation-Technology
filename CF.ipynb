{
 "cells": [
  {
   "cell_type": "code",
   "execution_count": 1,
   "id": "3511a01e-a9ea-45af-b778-251cd0b70d61",
   "metadata": {},
   "outputs": [],
   "source": [
    "%run ./MovieLens.ipynb"
   ]
  },
  {
   "cell_type": "code",
   "execution_count": 2,
   "id": "22614e2a-c644-4084-a579-a9ff00c694ee",
   "metadata": {},
   "outputs": [],
   "source": [
    "# 设置超参数\n",
    "k = 20\n",
    "lambda_ = 0.5"
   ]
  },
  {
   "cell_type": "code",
   "execution_count": 3,
   "id": "5de4e0a1-051e-43b1-bc2f-a4849a14a216",
   "metadata": {},
   "outputs": [],
   "source": [
    "# 相邻算法\n",
    "def PCC_user(u, w):\n",
    "    # 求用户u和w的交集\n",
    "    items = I_u_w(u, w)\n",
    "    n = len(items)\n",
    "    if n == 0:\n",
    "        return 0\n",
    "    s1 = s2 = s3 = 0.0\n",
    "    for k in items:\n",
    "        s1 += (ratings[u][k] - r_u[u]) * (ratings[w][k] - r_u[w])\n",
    "        s2 += (ratings[u][k] - r_u[u]) ** 2\n",
    "        s3 += (ratings[w][k] - r_u[w]) ** 2\n",
    "    if s1 == 0 or s2 == 0 or s3 == 0:\n",
    "        return 0\n",
    "    return s1 / ((s2 ** 0.5) * (s3 ** 0.5))\n",
    "\n",
    "def PCC_item(k, j):\n",
    "    # 求物品k和j的交集\n",
    "    users = U_k_j(k, j)\n",
    "    n = len(users)\n",
    "    if n == 0:\n",
    "        return 0\n",
    "    s1 = s2 = s3 = 0.0\n",
    "    for u in users:\n",
    "        s1 += (ratings[u][k] - r_u[u]) * (ratings[u][j] - r_u[u])\n",
    "        s2 += (ratings[u][k] - r_u[u]) ** 2\n",
    "        s3 += (ratings[u][j] - r_u[u]) ** 2\n",
    "    if s1 == 0.0 or s2 == 0.0 or s3 == 0.0:\n",
    "        return 0.0\n",
    "    return s1 / ((s2 ** 0.5) * (s3 ** 0.5))"
   ]
  },
  {
   "cell_type": "code",
   "execution_count": 4,
   "id": "83fb3271-5b0c-4520-b925-140880d37c01",
   "metadata": {
    "scrolled": true
   },
   "outputs": [],
   "source": [
    "# 求用户和物品的相邻系数矩阵\n",
    "s_uw = np.zeros((user_num + 1, user_num + 1), float)\n",
    "for i in range(1, user_num + 1):\n",
    "    for j in range(1, i + 1):\n",
    "        if j == i:\n",
    "            s_uw[i][j] = 1.0\n",
    "        else:\n",
    "            s_uw[i][j] = PCC_user(i, j)\n",
    "            s_uw[j][i] = PCC_user(i, j)\n",
    "            \n",
    "s_kj = np.zeros((item_num + 1, item_num + 1), float)\n",
    "for i in range(1, item_num + 1):\n",
    "    for j in range(1, i + 1):\n",
    "        if j == i:\n",
    "            s_kj[i][j] = 1.0\n",
    "        else:\n",
    "            s_kj[i][j] = PCC_item(i, j)\n",
    "            s_kj[j][i] = PCC_item(i, j)"
   ]
  },
  {
   "cell_type": "code",
   "execution_count": 5,
   "id": "94402404-c5d8-4660-8f1d-b22959b4403c",
   "metadata": {},
   "outputs": [],
   "source": [
    "# 获取k个邻居\n",
    "def get_user_neighbors(u, j):\n",
    "    neighbors = np.where(s_uw[u] != 0)[0]\n",
    "    neighbors = neighbors[neighbors != u]\n",
    "    neighbors = np.intersect1d(neighbors, U_j(j))\n",
    "    # 获取用户u与邻居的相关系数数组\n",
    "    coefficients = s_uw[u][neighbors]\n",
    "    # 使用argsort函数获取绝对值最大的k个邻居的索引\n",
    "    return neighbors[np.argsort(coefficients)[::-1][:k]]\n",
    "\n",
    "def get_item_neighbors(u, j):\n",
    "    neighbors = np.where(s_kj[j] != 0)[0]\n",
    "    neighbors = neighbors[neighbors != j]\n",
    "    neighbors = np.intersect1d(neighbors, I_u(u))\n",
    "    # 获取物品j与邻居的相关系数数组\n",
    "    coefficients = s_kj[j][neighbors]\n",
    "    # 使用argsort函数获取绝对值最大的k个邻居的索引\n",
    "    return neighbors[np.argsort(coefficients)[::-1][:k]]"
   ]
  },
  {
   "cell_type": "code",
   "execution_count": 6,
   "id": "f67391d3-4456-4353-9c26-2cc28208dff2",
   "metadata": {},
   "outputs": [],
   "source": [
    "# 预测规则\n",
    "def UCF(u, j):\n",
    "    # 获取邻居\n",
    "    neighbors = get_user_neighbors(u, j)\n",
    "    if len(neighbors) == 0:\n",
    "        return r_u[u]\n",
    "    s1 = s2 = 0.0\n",
    "    for w in neighbors:\n",
    "        s1 += s_uw[u][w] * (ratings[w][j] - r_u[w])\n",
    "        s2 += s_uw[u][w]\n",
    "    return r_u[u] + (s1 / s2)\n",
    "\n",
    "def ICF(u, j):\n",
    "    # 获取邻居\n",
    "    neighbors = get_item_neighbors(u, j)\n",
    "    if len(neighbors) == 0:\n",
    "        return r_u[u]\n",
    "    s1 = s2 = 0.0\n",
    "    for k in neighbors:\n",
    "        s1 += s_kj[k][j] * ratings[u][k]\n",
    "        s2 += s_kj[k][j]\n",
    "    if s2 == 0:\n",
    "        return r_u[u]\n",
    "    return s1 / s2\n",
    "    \n",
    "def HCF(u, j):\n",
    "    return lambda_ * UCF(u, j) + (1 - lambda_) * ICF(u, j)"
   ]
  },
  {
   "cell_type": "code",
   "execution_count": 7,
   "id": "7c45dfd5-3f5e-40d7-b55b-ba9b7385eaa0",
   "metadata": {},
   "outputs": [
    {
     "name": "stdout",
     "output_type": "stream",
     "text": [
      "RMSE: 0.9822, MAE: 0.7643\n",
      "RMSE: 1.0754, MAE: 0.8322\n",
      "RMSE: 1.0184, MAE: 0.7890\n"
     ]
    }
   ],
   "source": [
    "# 输出结果\n",
    "predict(UCF, ICF, HCF)"
   ]
  }
 ],
 "metadata": {
  "kernelspec": {
   "display_name": "Python 3 (ipykernel)",
   "language": "python",
   "name": "python3"
  },
  "language_info": {
   "codemirror_mode": {
    "name": "ipython",
    "version": 3
   },
   "file_extension": ".py",
   "mimetype": "text/x-python",
   "name": "python",
   "nbconvert_exporter": "python",
   "pygments_lexer": "ipython3",
   "version": "3.8.19"
  }
 },
 "nbformat": 4,
 "nbformat_minor": 5
}
