{
 "cells": [
  {
   "cell_type": "code",
   "execution_count": 1,
   "id": "19b71c3a-cc8e-41dd-bc04-15e7c72a4328",
   "metadata": {
    "ExecuteTime": {
     "end_time": "2024-09-22T11:28:54.395704Z",
     "start_time": "2024-09-22T11:28:48.249725Z"
    }
   },
   "outputs": [
    {
     "name": "stderr",
     "output_type": "stream",
     "text": [
      "100%|██████████| 99057/99057 [00:04<00:00, 21264.83it/s]\n"
     ]
    }
   ],
   "source": [
    "%run ./MovieLens_SequentialRecommendation.ipynb"
   ]
  },
  {
   "cell_type": "code",
   "execution_count": 2,
   "id": "ee1dedc7-039f-413c-b0cb-c10eb3eefc48",
   "metadata": {
    "ExecuteTime": {
     "end_time": "2024-09-22T11:28:54.400149Z",
     "start_time": "2024-09-22T11:28:54.397283Z"
    }
   },
   "outputs": [],
   "source": [
    "# 设置超参数\n",
    "k = 20\n",
    "d = 20\n",
    "lr = 0.01\n",
    "alpha_u = alpha_v = alpha_p = alpha_q = 0.01\n",
    "epochs = 100"
   ]
  },
  {
   "cell_type": "code",
   "outputs": [],
   "source": [
    "# 初始化模型参数\n",
    "U = np.random.rand(user_num + 1, d)\n",
    "V = np.random.rand(item_num + 1, d)\n",
    "P = np.random.rand(item_num + 1, d)\n",
    "Q = np.random.rand(item_num + 1, d)\n",
    "U = (U - 0.5) * 0.01\n",
    "V = (V - 0.5) * 0.01\n",
    "P = (P - 0.5) * 0.01\n",
    "Q = (Q - 0.5) * 0.01"
   ],
   "metadata": {
    "collapsed": false,
    "ExecuteTime": {
     "end_time": "2024-09-22T11:28:54.405384Z",
     "start_time": "2024-09-22T11:28:54.400981Z"
    }
   },
   "id": "b5401ede111e2651",
   "execution_count": 3
  },
  {
   "cell_type": "code",
   "outputs": [],
   "source": [
    "# 计算用户u对session中第t个物品第偏好\n",
    "def predict_rule(u, j, t):\n",
    "    pre_item = get_session(u)[t - 1]\n",
    "    return U[u] @ V[j].T + P[pre_item] @ Q[j].T"
   ],
   "metadata": {
    "collapsed": false,
    "ExecuteTime": {
     "end_time": "2024-09-22T11:28:54.408964Z",
     "start_time": "2024-09-22T11:28:54.406299Z"
    }
   },
   "id": "de9fec3ddddaf997",
   "execution_count": 4
  },
  {
   "cell_type": "code",
   "outputs": [
    {
     "name": "stderr",
     "output_type": "stream",
     "text": [
      "100%|██████████| 100/100 [17:50<00:00, 10.70s/it]\n"
     ]
    }
   ],
   "source": [
    "# 训练模型\n",
    "for epoch in tqdm(range(epochs)):\n",
    "    train_dataloader = DataLoader(train_dataset, shuffle=True)\n",
    "    for user, item, index, timestamp in train_dataloader:\n",
    "        if index == 0:\n",
    "            continue\n",
    "        # 计算第一个值\n",
    "        r1 = predict_rule(user, item, index)\n",
    "        # 计算第二个值\n",
    "        j = random.choice(I_not_u(user))\n",
    "        r2 = predict_rule(user, j, index)\n",
    "        # 计算梯度\n",
    "        pre_item = get_session(user)[index - 1]\n",
    "        e = sigmoid(r2 - r1)\n",
    "        delta_U = alpha_u * U[user] - e * (V[item] - V[j])\n",
    "        delta_Vi = alpha_v * V[item] - e * U[user]\n",
    "        delta_Vj = alpha_v * V[j] + e * U[user]\n",
    "        delta_Qi = alpha_q * Q[item] - e * P[pre_item]\n",
    "        delta_Qj = alpha_q * Q[j] + e * P[pre_item]\n",
    "        delta_Ppre = alpha_p * P[pre_item] - e * (Q[item] - Q[j])\n",
    "        # 更新参数\n",
    "        U[user] -= lr * delta_U\n",
    "        V[item] -= lr * delta_Vi\n",
    "        V[j] -= lr * delta_Vj\n",
    "        Q[item] -= lr * delta_Qi\n",
    "        Q[j] -= lr * delta_Qj\n",
    "        P[pre_item] -= lr * delta_Ppre"
   ],
   "metadata": {
    "collapsed": false,
    "ExecuteTime": {
     "end_time": "2024-09-22T11:46:44.683023Z",
     "start_time": "2024-09-22T11:28:54.410753Z"
    }
   },
   "id": "eb8dff086e4a01e2",
   "execution_count": 5
  },
  {
   "cell_type": "code",
   "execution_count": 8,
   "id": "f653a5a0-c964-43fd-8381-91b80bfe1280",
   "metadata": {
    "ExecuteTime": {
     "end_time": "2024-09-22T11:47:25.115496Z",
     "start_time": "2024-09-22T11:47:25.112247Z"
    }
   },
   "outputs": [],
   "source": [
    "def FPMC(u, j):\n",
    "    label = get_label(u)\n",
    "    return U[u] @ V[j].T + P[label] @ Q[j].T"
   ]
  },
  {
   "cell_type": "code",
   "execution_count": null,
   "id": "a74d678f-1438-4ae4-be29-e2ad7bae9794",
   "metadata": {
    "is_executing": true,
    "ExecuteTime": {
     "start_time": "2024-09-22T11:47:26.019616Z"
    }
   },
   "outputs": [
    {
     "name": "stdout",
     "output_type": "stream",
     "text": [
      "Pre: 0.0198\n",
      "Rec: 0.3955\n"
     ]
    }
   ],
   "source": [
    "predict(FPMC, k)"
   ]
  }
 ],
 "metadata": {
  "kernelspec": {
   "display_name": "Python 3 (ipykernel)",
   "language": "python",
   "name": "python3"
  },
  "language_info": {
   "codemirror_mode": {
    "name": "ipython",
    "version": 3
   },
   "file_extension": ".py",
   "mimetype": "text/x-python",
   "name": "python",
   "nbconvert_exporter": "python",
   "pygments_lexer": "ipython3",
   "version": "3.8.19"
  }
 },
 "nbformat": 4,
 "nbformat_minor": 5
}
