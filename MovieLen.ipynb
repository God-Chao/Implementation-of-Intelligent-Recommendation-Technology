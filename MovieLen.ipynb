{
 "cells": [
  {
   "cell_type": "code",
   "execution_count": 1,
   "id": "1be94458-5e7d-443d-b7f2-62ee46e99b95",
   "metadata": {},
   "outputs": [],
   "source": [
    "# 在 some_other_notebook.ipynb 中\n",
    "def my_function():\n",
    "    print(\"Hello from another notebook!\")"
   ]
  },
  {
   "cell_type": "code",
   "execution_count": null,
   "id": "85c78c6f-1459-488f-bb5f-336489986e34",
   "metadata": {},
   "outputs": [],
   "source": []
  }
 ],
 "metadata": {
  "kernelspec": {
   "display_name": "Python 3 (ipykernel)",
   "language": "python",
   "name": "python3"
  },
  "language_info": {
   "codemirror_mode": {
    "name": "ipython",
    "version": 3
   },
   "file_extension": ".py",
   "mimetype": "text/x-python",
   "name": "python",
   "nbconvert_exporter": "python",
   "pygments_lexer": "ipython3",
   "version": "3.8.19"
  }
 },
 "nbformat": 4,
 "nbformat_minor": 5
}
