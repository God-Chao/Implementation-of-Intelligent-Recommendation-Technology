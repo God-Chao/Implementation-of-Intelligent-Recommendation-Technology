{
 "cells": [
  {
   "cell_type": "code",
   "execution_count": 1,
   "id": "19b71c3a-cc8e-41dd-bc04-15e7c72a4328",
   "metadata": {},
   "outputs": [],
   "source": [
    "%run ./MovieLens_Ranking.ipynb"
   ]
  },
  {
   "cell_type": "code",
   "execution_count": 2,
   "id": "ee1dedc7-039f-413c-b0cb-c10eb3eefc48",
   "metadata": {},
   "outputs": [],
   "source": [
    "# 设置超参数\n",
    "k = 5\n",
    "lr = 0.01\n",
    "epochs = 500\n",
    "d = 20\n",
    "alpha_u = alpha_v = beta_v = 0.01"
   ]
  },
  {
   "cell_type": "code",
   "execution_count": 3,
   "id": "cb996974-1d91-4917-9596-c584d8413b92",
   "metadata": {},
   "outputs": [],
   "source": [
    "# 获得用户不感兴趣的列表\n",
    "items_not_like = [[]]\n",
    "for u in range(1, user_num + 1):\n",
    "    items_not_like.append(I_not_u(u))\n",
    "\n",
    "def get_item_not_like(u):\n",
    "    items = items_not_like[u]\n",
    "    return random.choice(items)"
   ]
  },
  {
   "cell_type": "code",
   "execution_count": 4,
   "id": "b019c4cb-ea4b-456e-9e5e-f83d1f1ea7ec",
   "metadata": {},
   "outputs": [],
   "source": [
    "# 初始化模型参数\n",
    "b = np.zeros(item_num + 1, float)\n",
    "for i in range(1, item_num + 1):\n",
    "    b[i] = y_ui[:, i].mean() - density\n",
    "U = np.random.rand(user_num + 1, d)\n",
    "V = np.random.rand(item_num + 1, d)\n",
    "U = (U - 0.5) * 0.01\n",
    "V = (V - 0.5) * 0.01"
   ]
  },
  {
   "cell_type": "code",
   "execution_count": 5,
   "id": "874e03fa-5c7a-42d6-9b39-fcee30dca3c7",
   "metadata": {},
   "outputs": [],
   "source": [
    "def sigmoid(x):\n",
    "    return 1 / (1 + np.exp(-x))\n",
    "\n",
    "# 预测函数\n",
    "def predict_rule(u, i, U, V, b):\n",
    "    return U[u] @ V[i].T + b[i]"
   ]
  },
  {
   "cell_type": "code",
   "execution_count": 6,
   "id": "6580246f-28d8-410c-a3d1-afc6e6a11249",
   "metadata": {},
   "outputs": [
    {
     "name": "stderr",
     "output_type": "stream",
     "text": [
      "100%|█████████████████████████████████████████| 500/500 [05:34<00:00,  1.49it/s]\n"
     ]
    }
   ],
   "source": [
    "# 训练模型\n",
    "for epoch in tqdm(range(epochs)):\n",
    "    # 打乱训练集\n",
    "    train_data = get_train_data()\n",
    "    random.shuffle(train_data)\n",
    "    for data in train_data:\n",
    "        # 随机取数据\n",
    "        u, i = data[0], data[1]\n",
    "        j = get_item_not_like(u)\n",
    "        # 计算梯度\n",
    "        r_ui, r_uj = predict_rule(u, i, U, V, b), predict_rule(u, j, U, V, b)\n",
    "        e = -sigmoid(-(r_ui - r_uj))\n",
    "        delta_Uu = e * (V[i] - V[j]) + alpha_u * U[u]\n",
    "        delta_Vi = e * U[u] + alpha_v * V[i]\n",
    "        delta_Vj = e * (-U[u]) + alpha_v * V[j]\n",
    "        delta_bi = e + beta_v * b[i]\n",
    "        delta_bj = -e + beta_v * b[j]\n",
    "        # 更新参数\n",
    "        U[u] -= lr * delta_Uu\n",
    "        V[i] -= lr * delta_Vi\n",
    "        V[j] -= lr * delta_Vj\n",
    "        b[i] -= lr * delta_bi\n",
    "        b[j] -= lr * delta_bj"
   ]
  },
  {
   "cell_type": "code",
   "execution_count": 7,
   "id": "f653a5a0-c964-43fd-8381-91b80bfe1280",
   "metadata": {},
   "outputs": [],
   "source": [
    "def BPR(u, j):\n",
    "    return U[u] @ V[j].T + b[j]"
   ]
  },
  {
   "cell_type": "code",
   "execution_count": 8,
   "id": "a74d678f-1438-4ae4-be29-e2ad7bae9794",
   "metadata": {},
   "outputs": [
    {
     "name": "stdout",
     "output_type": "stream",
     "text": [
      "Pre: 0.3820\n",
      "Rec: 0.1163\n"
     ]
    }
   ],
   "source": [
    "predict(BPR, k)"
   ]
  }
 ],
 "metadata": {
  "kernelspec": {
   "display_name": "Python 3 (ipykernel)",
   "language": "python",
   "name": "python3"
  },
  "language_info": {
   "codemirror_mode": {
    "name": "ipython",
    "version": 3
   },
   "file_extension": ".py",
   "mimetype": "text/x-python",
   "name": "python",
   "nbconvert_exporter": "python",
   "pygments_lexer": "ipython3",
   "version": "3.8.19"
  }
 },
 "nbformat": 4,
 "nbformat_minor": 5
}
