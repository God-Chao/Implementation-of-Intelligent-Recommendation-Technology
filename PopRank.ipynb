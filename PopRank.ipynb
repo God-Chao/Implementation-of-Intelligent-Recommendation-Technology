{
 "cells": [
  {
   "cell_type": "code",
   "execution_count": 1,
   "id": "19b71c3a-cc8e-41dd-bc04-15e7c72a4328",
   "metadata": {},
   "outputs": [],
   "source": [
    "%run ./MovieLens_Ranking.ipynb"
   ]
  },
  {
   "cell_type": "code",
   "execution_count": 2,
   "id": "ee1dedc7-039f-413c-b0cb-c10eb3eefc48",
   "metadata": {},
   "outputs": [],
   "source": [
    "# 设置超参数\n",
    "k = 5"
   ]
  },
  {
   "cell_type": "code",
   "execution_count": 3,
   "id": "f653a5a0-c964-43fd-8381-91b80bfe1280",
   "metadata": {},
   "outputs": [],
   "source": [
    "def PopRank(u, j):\n",
    "    return y_ui[:,j].mean() - density"
   ]
  },
  {
   "cell_type": "code",
   "execution_count": 4,
   "id": "a74d678f-1438-4ae4-be29-e2ad7bae9794",
   "metadata": {},
   "outputs": [
    {
     "name": "stdout",
     "output_type": "stream",
     "text": [
      "MRR: 0.4316\n"
     ]
    }
   ],
   "source": [
    "predict(PopRank, k)"
   ]
  }
 ],
 "metadata": {
  "kernelspec": {
   "display_name": "Python 3 (ipykernel)",
   "language": "python",
   "name": "python3"
  },
  "language_info": {
   "codemirror_mode": {
    "name": "ipython",
    "version": 3
   },
   "file_extension": ".py",
   "mimetype": "text/x-python",
   "name": "python",
   "nbconvert_exporter": "python",
   "pygments_lexer": "ipython3",
   "version": "3.8.19"
  }
 },
 "nbformat": 4,
 "nbformat_minor": 5
}
