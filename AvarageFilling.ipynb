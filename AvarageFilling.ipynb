{
 "cells": [
  {
   "cell_type": "code",
   "execution_count": 2,
   "id": "c5016c96-8577-4695-a5bc-a771a524e3d5",
   "metadata": {},
   "outputs": [],
   "source": [
    "%run ./MovieLens.ipynb"
   ]
  },
  {
   "cell_type": "code",
   "execution_count": 5,
   "id": "80dc3f90-12b6-4873-ad63-6f5faa6db2bb",
   "metadata": {},
   "outputs": [],
   "source": [
    "# 预测规则\n",
    "def AF1(u, i):\n",
    "    return r_u[u]\n",
    "\n",
    "def AF2(u, i):\n",
    "    return r_i[i]\n",
    "    \n",
    "def AF3(u, i):\n",
    "    return r_u[u] / 2 + r_i[i] / 2\n",
    "\n",
    "def AF4(u, i):\n",
    "    return b_u[u] + r_i[i]\n",
    "\n",
    "def AF5(u, i):\n",
    "    return r_u[u] + b_i[i]\n",
    "\n",
    "def AF6(u, i):\n",
    "    return r_ + b_u[u] + b_i[i]"
   ]
  },
  {
   "cell_type": "code",
   "execution_count": 6,
   "id": "63b2b054-2488-4198-80d9-db5dbe917eec",
   "metadata": {},
   "outputs": [
    {
     "name": "stdout",
     "output_type": "stream",
     "text": [
      "1.0630, 0.8502\n",
      "1.0334, 0.8276\n",
      "0.9985, 0.8085\n",
      "0.9602, 0.7574\n",
      "0.9758, 0.7696\n",
      "0.9623, 0.7613\n"
     ]
    }
   ],
   "source": [
    "# 输出结果\n",
    "print(f\"{RMSE(AF1):.4f}, {MAE(AF1):.4f}\")\n",
    "print(f\"{RMSE(AF2):.4f}, {MAE(AF2):.4f}\")\n",
    "print(f\"{RMSE(AF3):.4f}, {MAE(AF3):.4f}\")\n",
    "print(f\"{RMSE(AF4):.4f}, {MAE(AF4):.4f}\")\n",
    "print(f\"{RMSE(AF5):.4f}, {MAE(AF5):.4f}\")\n",
    "print(f\"{RMSE(AF6):.4f}, {MAE(AF6):.4f}\")"
   ]
  }
 ],
 "metadata": {
  "kernelspec": {
   "display_name": "Python 3 (ipykernel)",
   "language": "python",
   "name": "python3"
  },
  "language_info": {
   "codemirror_mode": {
    "name": "ipython",
    "version": 3
   },
   "file_extension": ".py",
   "mimetype": "text/x-python",
   "name": "python",
   "nbconvert_exporter": "python",
   "pygments_lexer": "ipython3",
   "version": "3.8.19"
  }
 },
 "nbformat": 4,
 "nbformat_minor": 5
}
