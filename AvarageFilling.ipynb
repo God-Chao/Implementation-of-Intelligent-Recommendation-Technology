{
 "cells": [
  {
   "cell_type": "code",
   "execution_count": 1,
   "id": "c5016c96-8577-4695-a5bc-a771a524e3d5",
   "metadata": {},
   "outputs": [],
   "source": [
    "import numpy as np"
   ]
  },
  {
   "cell_type": "code",
   "execution_count": 35,
   "id": "f1f02d02-5e81-4e8d-bf53-4e80080c07ac",
   "metadata": {},
   "outputs": [],
   "source": [
    "# 读取训练集\n",
    "user_num = 943\n",
    "item_num = 1682\n",
    "\n",
    "ratings = np.zeros((user_num + 1, item_num + 1), int)\n",
    "y_ui = np.zeros((user_num + 1, item_num + 1), int)\n",
    "\n",
    "with open('../data/ml-100k/u1.base', 'r') as file:\n",
    "    for line in file.readlines():\n",
    "        user, item, rating, timestamp = line.split('\t')\n",
    "        ratings[int(user)][int(item)] = int(rating)\n",
    "        y_ui[int(user)][int(item)] = 1\n",
    "\n",
    "p = y_ui.sum()\n",
    "density = p / (user_num * item_num)\n",
    "r_ = ratings.sum() / p\n",
    "n = y_ui.sum()\n",
    "\n",
    "r_1 = ratings.sum(axis=0)\n",
    "r_2 = ratings.sum(axis=1)\n",
    "r_3 = y_ui.sum(axis=0)\n",
    "r_4 = y_ui.sum(axis=1)"
   ]
  },
  {
   "cell_type": "code",
   "execution_count": 36,
   "id": "83b1f780-0cac-49bf-8ca6-9a39d3e0cc57",
   "metadata": {},
   "outputs": [],
   "source": [
    "# 求四个参数\n",
    "r_u = np.zeros(user_num + 1, float)\n",
    "for i in range(1, user_num + 1):\n",
    "    r_u[i] = (r_ if r_4[i] == 0 else r_2[i] / r_4[i])\n",
    "\n",
    "r_i = np.zeros(item_num + 1, float)\n",
    "for i in range(1, item_num + 1):\n",
    "    r_i[i] = (r_ if r_3[i] == 0 else r_1[i] / r_3[i])\n",
    "\n",
    "b_u = np.zeros(user_num + 1, float)\n",
    "for i in range(1, user_num + 1):\n",
    "    b_u[i] = (0 if r_4[i] == 0 else (y_ui[i] * (ratings[i] - r_i)).sum() / r_4[i])\n",
    "\n",
    "b_i = np.zeros(item_num + 1, float)\n",
    "for i in range(1, item_num + 1):\n",
    "    b_i[i] = (0 if r_3[i] == 0 else (y_ui[:, i] * (ratings[:, i] - r_u)).sum() / r_3[i])"
   ]
  },
  {
   "cell_type": "code",
   "execution_count": 54,
   "id": "a77c06c2-4152-4806-9d2c-6c0be6388aca",
   "metadata": {},
   "outputs": [],
   "source": [
    "# 损失函数\n",
    "def MAE(ratings_hat, ratings, y_ui, n):\n",
    "    return abs(ratings_hat * y_ui - ratings).sum() / n\n",
    "\n",
    "def RMSE(ratings_hat, ratings, y_ui, n):\n",
    "    return (((ratings_hat * y_ui - ratings) ** 2).sum() / n) ** 0.5"
   ]
  },
  {
   "cell_type": "code",
   "execution_count": 61,
   "id": "63b2b054-2488-4198-80d9-db5dbe917eec",
   "metadata": {},
   "outputs": [
    {
     "name": "stdout",
     "output_type": "stream",
     "text": [
      "1.0630, 0.8502\n",
      "1.0334, 0.8276\n",
      "0.9985, 0.8085\n",
      "0.9602, 0.7574\n",
      "0.9758, 0.7696\n",
      "0.9623, 0.7613\n"
     ]
    }
   ],
   "source": [
    "# 预测\n",
    "ratings_test = np.zeros((user_num + 1, item_num + 1), int)\n",
    "y_ui_test = np.zeros((user_num + 1, item_num + 1), int)\n",
    "\n",
    "with open('../data/ml-100k/u1.test', 'r') as file:\n",
    "    for line in file.readlines():\n",
    "        user, item, rating, timestamp = line.split('\t')\n",
    "        ratings_test[int(user)][int(item)] = int(rating)\n",
    "        y_ui_test[int(user)][int(item)] = 1\n",
    "\n",
    "test_num = y_ui_test.sum()\n",
    "\n",
    "# 评分规则\n",
    "ratings_hat1 = np.zeros_like(ratings_test, float)\n",
    "ratings_hat2 = np.zeros_like(ratings_test, float)\n",
    "ratings_hat3 = np.zeros_like(ratings_test, float)\n",
    "ratings_hat4 = np.zeros_like(ratings_test, float)\n",
    "ratings_hat5 = np.zeros_like(ratings_test, float)\n",
    "ratings_hat6 = np.zeros_like(ratings_test, float)\n",
    "\n",
    "for i in range(1, user_num + 1):\n",
    "    ratings_hat1[i, :] = r_u[i]\n",
    "\n",
    "for i in range(1, item_num + 1):\n",
    "    ratings_hat2[:, i] = r_i[i]\n",
    "\n",
    "for i in range(1, user_num + 1):\n",
    "    for j in range(1, item_num + 1):\n",
    "        ratings_hat3[i, j] = r_u[i] / 2 + r_i[j] / 2\n",
    "\n",
    "for i in range(1, user_num + 1):\n",
    "    for j in range(1, item_num + 1):\n",
    "        ratings_hat4[i, j] = b_u[i] + r_i[j]\n",
    "\n",
    "for i in range(1, user_num + 1):\n",
    "    for j in range(1, item_num + 1):\n",
    "        ratings_hat5[i, j] = r_u[i] + b_i[j]\n",
    "\n",
    "for i in range(1, user_num + 1):\n",
    "    for j in range(1, item_num + 1):\n",
    "        ratings_hat6[i, j] = r_ + b_u[i] + b_i[j]\n",
    "\n",
    "print(f\"{RMSE(ratings_hat1, ratings_test, y_ui_test, test_num):.4f}, {MAE(ratings_hat1, ratings_test, y_ui_test, test_num):.4f}\")\n",
    "print(f\"{RMSE(ratings_hat2, ratings_test, y_ui_test, test_num):.4f}, {MAE(ratings_hat2, ratings_test, y_ui_test, test_num):.4f}\")\n",
    "print(f\"{RMSE(ratings_hat3, ratings_test, y_ui_test, test_num):.4f}, {MAE(ratings_hat3, ratings_test, y_ui_test, test_num):.4f}\")\n",
    "print(f\"{RMSE(ratings_hat4, ratings_test, y_ui_test, test_num):.4f}, {MAE(ratings_hat4, ratings_test, y_ui_test, test_num):.4f}\")\n",
    "print(f\"{RMSE(ratings_hat5, ratings_test, y_ui_test, test_num):.4f}, {MAE(ratings_hat5, ratings_test, y_ui_test, test_num):.4f}\")\n",
    "print(f\"{RMSE(ratings_hat6, ratings_test, y_ui_test, test_num):.4f}, {MAE(ratings_hat6, ratings_test, y_ui_test, test_num):.4f}\")"
   ]
  }
 ],
 "metadata": {
  "kernelspec": {
   "display_name": "Python 3 (ipykernel)",
   "language": "python",
   "name": "python3"
  },
  "language_info": {
   "codemirror_mode": {
    "name": "ipython",
    "version": 3
   },
   "file_extension": ".py",
   "mimetype": "text/x-python",
   "name": "python",
   "nbconvert_exporter": "python",
   "pygments_lexer": "ipython3",
   "version": "3.8.19"
  }
 },
 "nbformat": 4,
 "nbformat_minor": 5
}
