{
 "cells": [
  {
   "cell_type": "code",
   "execution_count": 1,
   "id": "80d23eeb-7046-4dc8-a208-6606d2dc8f68",
   "metadata": {
    "ExecuteTime": {
     "end_time": "2024-09-22T11:10:27.678688Z",
     "start_time": "2024-09-22T11:10:26.370844Z"
    }
   },
   "outputs": [],
   "source": [
    "import pandas as pd\n",
    "import numpy as np\n",
    "import random\n",
    "from tqdm import tqdm\n",
    "from itertools import islice\n",
    "import torch\n",
    "from torch.utils.data import Dataset, DataLoader"
   ]
  },
  {
   "cell_type": "code",
   "outputs": [],
   "source": [
    "# 自定义 Dataset 类\n",
    "class MovieLensDataset(Dataset):\n",
    "    def __init__(self, path):\n",
    "        self.data = pd.read_csv(path, sep='\\t', names=['user_id', 'movie_id', 'index', 'timestamp'])\n",
    "\n",
    "    def __len__(self):\n",
    "        # 返回数据集的长度\n",
    "        return len(self.data)\n",
    "\n",
    "    def __getitem__(self, idx):\n",
    "        # 获取指定索引的数据，返回用户 ID、电影 ID 和评分\n",
    "        user_id = self.data.iloc[idx, 0]  # 用户 ID\n",
    "        movie_id = self.data.iloc[idx, 1]  # 电影 ID\n",
    "        index = self.data.iloc[idx, 2]  # session次序\n",
    "        timestamp = self.data.iloc[idx, 3]  # 时间戳\n",
    "        return user_id, movie_id, index, timestamp\n",
    "\n",
    "\n",
    "# 读取数据集\n",
    "train_dataset = MovieLensDataset(path='./data/ml-100k/u.train_data')"
   ],
   "metadata": {
    "collapsed": false,
    "ExecuteTime": {
     "end_time": "2024-09-22T11:10:27.704072Z",
     "start_time": "2024-09-22T11:10:27.679957Z"
    }
   },
   "id": "cf850b0c40851a86",
   "execution_count": 2
  },
  {
   "cell_type": "code",
   "outputs": [
    {
     "name": "stderr",
     "output_type": "stream",
     "text": [
      "100%|██████████| 99057/99057 [00:04<00:00, 20573.94it/s]\n"
     ]
    }
   ],
   "source": [
    "# 构建session\n",
    "user_num = 943\n",
    "item_num = 1682\n",
    "\n",
    "y_ui = np.zeros((user_num + 1, item_num + 1), int)\n",
    "train_session = {}\n",
    "\n",
    "for user, item, index, timestamp in tqdm(train_dataset):\n",
    "    # user, item, rating, timestamp = user.item(), item.item(), rating.item(), timestamp.item()\n",
    "    y_ui[user][item] = 1\n",
    "    if user not in train_session:\n",
    "        train_session[user] = []\n",
    "    train_session[user].append([item, timestamp])\n",
    "\n",
    "# 排序session\n",
    "for user in train_session.keys():\n",
    "    session = train_session[user]\n",
    "    session.sort(key=lambda x: x[1])"
   ],
   "metadata": {
    "collapsed": false,
    "ExecuteTime": {
     "end_time": "2024-09-22T11:10:32.543223Z",
     "start_time": "2024-09-22T11:10:27.705082Z"
    }
   },
   "id": "3e23ddef0cc19b61",
   "execution_count": 3
  },
  {
   "cell_type": "code",
   "outputs": [],
   "source": [
    "sessions = [[] for a in range(user_num + 1)]\n",
    "for u in range(1, user_num + 1):\n",
    "    first_column = [row[0] for row in train_session[u]]\n",
    "    sessions[u] = first_column\n",
    "\n",
    "test_data = pd.read_csv('./data/ml-100k/u.test_data', header=None)\n",
    "labels = np.zeros(user_num + 1, int)\n",
    "for index, row in test_data.iterrows():\n",
    "    user, item = row[0], row[1]\n",
    "    labels[user] = item\n",
    "\n",
    "\n",
    "# 获得用户session\n",
    "def get_session(u):\n",
    "    return sessions[u]\n",
    "\n",
    "\n",
    "# 获得用户label\n",
    "def get_label(u):\n",
    "    return labels[u]"
   ],
   "metadata": {
    "collapsed": false,
    "ExecuteTime": {
     "end_time": "2024-09-22T11:10:32.577374Z",
     "start_time": "2024-09-22T11:10:32.545085Z"
    }
   },
   "id": "ed9dd196aa059134",
   "execution_count": 4
  },
  {
   "cell_type": "code",
   "outputs": [],
   "source": [
    "# 用户u评分过的所有物品\n",
    "def I_u(u):\n",
    "    return np.where(y_ui[u] == 1)[0]\n",
    "\n",
    "\n",
    "# 用户u没评分过的所有物品\n",
    "def I_not_u(u):\n",
    "    return np.where(y_ui[u] == 0)[0]\n",
    "\n",
    "def sigmoid(x):\n",
    "    return 1 / (1 + np.exp(-x))"
   ],
   "metadata": {
    "collapsed": false,
    "ExecuteTime": {
     "end_time": "2024-09-22T11:10:32.580866Z",
     "start_time": "2024-09-22T11:10:32.578405Z"
    }
   },
   "id": "e49c9b755397f320",
   "execution_count": 5
  },
  {
   "cell_type": "code",
   "outputs": [],
   "source": [
    "# 损失函数\n",
    "def Pre(predict_rule, k):\n",
    "    loss = 0.\n",
    "    for user in range(1, user_num + 1):\n",
    "        recommended_items = get_recommended_items(user, k, predict_rule)\n",
    "        # 用户感兴趣的物品\n",
    "        prefer_items = [get_label(user)]\n",
    "        loss += len(np.intersect1d(recommended_items, prefer_items)) / k\n",
    "    return loss / user_num\n",
    "\n",
    "\n",
    "def Rec(predict_rule, k):\n",
    "    loss = 0.\n",
    "    for user in range(1, user_num + 1):\n",
    "        recommended_items = get_recommended_items(user, k, predict_rule)\n",
    "        # 用户感兴趣的物品\n",
    "        prefer_items = [get_label(user)]\n",
    "        loss += len(np.intersect1d(recommended_items, prefer_items)) / len(prefer_items)\n",
    "    return loss / user_num\n",
    "\n",
    "\n",
    "def NDCG(predict_rule, k):\n",
    "    loss = 0.\n",
    "    for user in range(1, user_num + 1):\n",
    "        recommended_items = get_recommended_items(user, k, predict_rule)\n",
    "        # 用户感兴趣的物品\n",
    "        prefer_items = [get_label(user)]\n",
    "        # 计算DCG\n",
    "        dcg = 0.0\n",
    "        for l in range(k):\n",
    "            if recommended_items[l] in prefer_items:\n",
    "                dcg += 1.0 / np.log(l + 2)\n",
    "        idcg = sum(1.0 / np.log(i + 2) for i in range(min(len(prefer_items), k)))\n",
    "        loss += dcg / idcg if idcg > 0 else 0.0\n",
    "    return loss / user_num"
   ],
   "metadata": {
    "collapsed": false,
    "ExecuteTime": {
     "end_time": "2024-09-22T11:10:32.587160Z",
     "start_time": "2024-09-22T11:10:32.581666Z"
    }
   },
   "id": "6bc6dbede7e10bc5",
   "execution_count": 6
  },
  {
   "cell_type": "code",
   "outputs": [],
   "source": [
    "# 取用户u的推荐物品\n",
    "def get_recommended_items(u, k, predict_rule):\n",
    "    ranks = {i: 0 for i in range(1, item_num + 1)}\n",
    "    rated_items = I_u(u)\n",
    "    ranks = {key: value for key, value in ranks.items() if key not in rated_items}\n",
    "    for i in ranks:\n",
    "        ranks[i] = predict_rule(u, i)\n",
    "    ranks = dict(sorted(ranks.items(), key=lambda item: item[1], reverse=True))\n",
    "    recommended_items = [key for key, value in islice(ranks.items(), k)]\n",
    "    return recommended_items"
   ],
   "metadata": {
    "collapsed": false,
    "ExecuteTime": {
     "end_time": "2024-09-22T11:10:32.591619Z",
     "start_time": "2024-09-22T11:10:32.588290Z"
    }
   },
   "id": "8536875785503834",
   "execution_count": 7
  },
  {
   "cell_type": "code",
   "execution_count": 8,
   "id": "0797b86f-6d25-44c8-83c3-059bf3ce259f",
   "metadata": {
    "ExecuteTime": {
     "end_time": "2024-09-22T11:10:32.594748Z",
     "start_time": "2024-09-22T11:10:32.592578Z"
    }
   },
   "outputs": [],
   "source": [
    "# 预测\n",
    "def predict(predict_rule, k):\n",
    "    print(f\"Pre: {Pre(predict_rule, k):.4f}\")\n",
    "    print(f\"Rec: {Rec(predict_rule, k):.4f}\")\n",
    "    print(f\"NDCG: {NDCG(predict_rule, k):.4f}\")"
   ]
  }
 ],
 "metadata": {
  "kernelspec": {
   "display_name": "Python 3 (ipykernel)",
   "language": "python",
   "name": "python3"
  },
  "language_info": {
   "codemirror_mode": {
    "name": "ipython",
    "version": 3
   },
   "file_extension": ".py",
   "mimetype": "text/x-python",
   "name": "python",
   "nbconvert_exporter": "python",
   "pygments_lexer": "ipython3",
   "version": "3.8.19"
  }
 },
 "nbformat": 4,
 "nbformat_minor": 5
}
